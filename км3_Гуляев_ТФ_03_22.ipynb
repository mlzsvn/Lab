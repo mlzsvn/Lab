{
  "nbformat": 4,
  "nbformat_minor": 0,
  "metadata": {
    "colab": {
      "provenance": [],
      "authorship_tag": "ABX9TyMzlIG0igFrPMxd1hOAMFKX",
      "include_colab_link": true
    },
    "kernelspec": {
      "name": "python3",
      "display_name": "Python 3"
    },
    "language_info": {
      "name": "python"
    }
  },
  "cells": [
    {
      "cell_type": "markdown",
      "metadata": {
        "id": "view-in-github",
        "colab_type": "text"
      },
      "source": [
        "<a href=\"https://colab.research.google.com/github/mlzsvn/Lab/blob/main/%D0%BA%D0%BC3_%D0%93%D1%83%D0%BB%D1%8F%D0%B5%D0%B2_%D0%A2%D0%A4_03_22.ipynb\" target=\"_parent\"><img src=\"https://colab.research.google.com/assets/colab-badge.svg\" alt=\"Open In Colab\"/></a>"
      ]
    },
    {
      "cell_type": "code",
      "source": [
        "\n",
        "pip install CoolProp"
      ],
      "metadata": {
        "colab": {
          "base_uri": "https://localhost:8080/"
        },
        "id": "cCoDzOm85UKO",
        "outputId": "afd9aa07-4ec2-499f-b57e-5a68e5c28e88"
      },
      "execution_count": null,
      "outputs": [
        {
          "output_type": "stream",
          "name": "stdout",
          "text": [
            "Looking in indexes: https://pypi.org/simple, https://us-python.pkg.dev/colab-wheels/public/simple/\n",
            "Collecting CoolProp\n",
            "  Downloading CoolProp-6.4.3.post1-cp39-cp39-manylinux_2_17_x86_64.manylinux2014_x86_64.whl (6.2 MB)\n",
            "\u001b[2K     \u001b[90m━━━━━━━━━━━━━━━━━━━━━━━━━━━━━━━━━━━━━━━━\u001b[0m \u001b[32m6.2/6.2 MB\u001b[0m \u001b[31m44.4 MB/s\u001b[0m eta \u001b[36m0:00:00\u001b[0m\n",
            "\u001b[?25hInstalling collected packages: CoolProp\n",
            "Successfully installed CoolProp-6.4.3.post1\n"
          ]
        }
      ]
    },
    {
      "cell_type": "markdown",
      "source": [
        "import CoolProp.CoolProp as ct\n",
        "import numpy as np\n",
        "import matplotlib.pyplot as plt\n",
        "fluid_name=\"CH4\"\n",
        "t=np.linspace(0,400,500)\n",
        "p=101325\n",
        "d=ct.PropsSI(\"D\",\"T\",t,\"P\",p,fluid_name)\n",
        "plt.plot(t,d,\"r\")\n",
        "plt.title(\"график\")\n",
        "plt.xlabel(\"Temperature\")\n",
        "plt.ylabel(\"Density\")\n",
        "plt.scatter(-161.5,ct.PropsSI(\"D\",\"T\",-161.5,\"P\",p,fluid_name))\n",
        "plt.grid\n",
        "T=np.linspace(0,400,100)   # Кельвин\n",
        "P=101325 #Паскаль\n",
        "V=64 # м^3\n",
        "R=8.314\n",
        "# Решение 1\n",
        "M=0.016\n",
        "m=(P*V*M)/(R*T)\n",
        "plt.plot(T,m)\n",
        "plt.show\n",
        "print(ct.PropsSI(\"D\",\"T\",373.15,\"P\",p,fluid_name))"
      ],
      "metadata": {
        "id": "c_LYMcW-6RgW"
      }
    },
    {
      "cell_type": "markdown",
      "source": [
        "import CoolProp.CoolProp as ct\n",
        "import numpy as np\n",
        "import matplotlib.pyplot as plt\n",
        "fluid_name=\"ch4\"\n",
        "t=np.linspace(274,400,100)\n",
        "p=101325\n",
        "d=ct.PropsSI(\"D\",\"T\",t,\"P\",p,fluid_name)\n",
        "plt.plot(t,d,\"r\")\n",
        "plt.title(\"график\")\n",
        "plt.xlabel(\"Temperature\")\n",
        "plt.ylabel(\"Density\")\n",
        "T=np.linspace(0,400,100)   # Кельвин\n",
        "P=101325 #Паскаль\n",
        "V=64 # м^3\n",
        "R=8.314\n",
        "# Решение 1\n",
        "M=0.016\n",
        "m=(P*V*M)/(R*T)\n",
        "plt.plot(T,m)\n",
        "\n",
        "plt.grid()\n",
        "plt.show\n"
      ],
      "metadata": {
        "id": "SBpAkaZU7nMC"
      }
    },
    {
      "cell_type": "code",
      "source": [
        "import CoolProp.CoolProp as ct\n",
        "import numpy as np\n",
        "import matplotlib.pyplot as plt\n",
        "fluid_name=\"CH4\"\n",
        "t=np.linspace(300,400,500)\n",
        "p=101325\n",
        "v=64\n",
        "M=0.016\n",
        "d=ct.PropsSI(\"D\",\"T\",t,\"P\",p,fluid_name)\n",
        "m=d*v\n",
        "plt.plot(t,d,\"r\")\n",
        "plt.title(\"график\")\n",
        "plt.xlabel(\"температура\")\n",
        "plt.ylabel(\"давление\")\n",
        "plt.grid()\n",
        "T=np.linspace(300,400,500)\n",
        "R=8\n",
        "m=(p*v*M)/(R*T)\n",
        "plt.scatter(373,46,color=\"g\")\n",
        "plt.plot(T,m)\n",
        "plt.show"
      ],
      "metadata": {
        "colab": {
          "base_uri": "https://localhost:8080/",
          "height": 489
        },
        "id": "SgcuCDTA8qnY",
        "outputId": "6d9d5d55-7162-4bc4-9e7a-97397541ef2a"
      },
      "execution_count": null,
      "outputs": [
        {
          "output_type": "execute_result",
          "data": {
            "text/plain": [
              "<function matplotlib.pyplot.show(close=None, block=None)>"
            ]
          },
          "metadata": {},
          "execution_count": 39
        },
        {
          "output_type": "display_data",
          "data": {
            "text/plain": [
              "<Figure size 640x480 with 1 Axes>"
            ],
            "image/png": "[encoded data removed]"
          },
          "metadata": {}
        }
      ]
    }
  ]
}